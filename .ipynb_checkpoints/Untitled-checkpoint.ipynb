{
 "cells": [
  {
   "cell_type": "markdown",
   "metadata": {},
   "source": [
    "# Postgres ETL\n",
    "This project consists on putting into practice the following concepts:\n",
    "\n",
    "- Data modeling with Postgres\n",
    "- Database star schema created \n",
    "- ETL pipeline using Python"
   ]
  },
  {
   "cell_type": "markdown",
   "metadata": {},
   "source": [
    "## Context\n",
    "\n",
    "A music company startup wants to analyze the data they havve been collecting on songs and user activity on their new music streaming app. The analytics team is particularly interested in understanding what songs users are listening to. \n",
    "Currently, they do not have an easy way to query their data, which resides in a directory of JSON logs on user activity on the app, as well as a directory with JSON metadata on the songs in their app.\n",
    "\n",
    "Your role is to create a database schema and ETL pipeline for this analysis."
   ]
  },
  {
   "cell_type": "markdown",
   "metadata": {},
   "source": [
    "### Data\n",
    "- **Song datasets**: all json files are nested in subdirectories under */data/song_data*. A sample of this files is:\n",
    "\n",
    "```\n",
    "{\"num_songs\": 1, \"artist_id\": \"ARJIE2Y1187B994AB7\", \"artist_latitude\": null, \"artist_longitude\": null, \"artist_location\": \"\", \"artist_name\": \"Line Renaud\", \"song_id\": \"SOUPIRU12A6D4FA1E1\", \"title\": \"Der Kleine Dompfaff\", \"duration\": 152.92036, \"year\": 0}\n",
    "```\n",
    "\n",
    "- **Log datasets**: all json files are nested in subdirectories under */data/log_data*. A sample of a single row of each files is:\n",
    "\n",
    "```\n",
    "{\"artist\":\"Slipknot\",\"auth\":\"Logged In\",\"firstName\":\"Aiden\",\"gender\":\"M\",\"itemInSession\":0,\"lastName\":\"Ramirez\",\"length\":192.57424,\"level\":\"paid\",\"location\":\"New York-Newark-Jersey City, NY-NJ-PA\",\"method\":\"PUT\",\"page\":\"NextSong\",\"registration\":1540283578796.0,\"sessionId\":19,\"song\":\"Opium Of The People (Album Version)\",\"status\":200,\"ts\":1541639510796,\"userAgent\":\"\\\"Mozilla\\/5.0 (Windows NT 6.1) AppleWebKit\\/537.36 (KHTML, like Gecko) Chrome\\/36.0.1985.143 Safari\\/537.36\\\"\",\"userId\":\"20\"}\n",
    "```"
   ]
  },
  {
   "cell_type": "markdown",
   "metadata": {},
   "source": [
    "## Database Schema\n",
    "The schema used for this exercise is the Star Schema: \n",
    "There is one main fact table containing all the measures associated to each event (user song plays), \n",
    "and 4 dimentional tables, each with a primary key that is being referenced from the fact table."
   ]
  },
  {
   "cell_type": "markdown",
   "metadata": {},
   "source": [
    "![Data Modeling](StarSchema.png)"
   ]
  },
  {
   "cell_type": "markdown",
   "metadata": {},
   "source": [
    "## How to run the Project\n",
    "\n",
    "1) Run in console\n",
    " ```\n",
    "python create_tables.py\n",
    "```\n",
    "2) Used test.ipynb Jupyter Notebook to interactively verify that all tables were created correctly.\n",
    "\n",
    "3) Run etl in console, and verify results:\n",
    " ```\n",
    "python etl.py\n",
    "```\n"
   ]
  }
 ],
 "metadata": {
  "kernelspec": {
   "display_name": "Python 3",
   "language": "python",
   "name": "python3"
  },
  "language_info": {
   "codemirror_mode": {
    "name": "ipython",
    "version": 3
   },
   "file_extension": ".py",
   "mimetype": "text/x-python",
   "name": "python",
   "nbconvert_exporter": "python",
   "pygments_lexer": "ipython3",
   "version": "3.8.5"
  }
 },
 "nbformat": 4,
 "nbformat_minor": 4
}
